{
 "cells": [
  {
   "cell_type": "markdown",
   "id": "f4d03223",
   "metadata": {},
   "source": [
    "## imports"
   ]
  },
  {
   "cell_type": "code",
   "execution_count": null,
   "id": "0b20bb09",
   "metadata": {},
   "outputs": [],
   "source": [
    "import pandas as pd\n",
    "import numpy as np\n",
    "import plotly.express as px\n",
    "import str"
   ]
  },
  {
   "cell_type": "code",
   "execution_count": null,
   "id": "9df9e9a2",
   "metadata": {},
   "outputs": [],
   "source": []
  },
  {
   "cell_type": "markdown",
   "id": "18c15332",
   "metadata": {},
   "source": [
    "## stakeholders and project value"
   ]
  },
  {
   "cell_type": "markdown",
   "id": "d3047fb5",
   "metadata": {},
   "source": [
    "stakeholders\n",
    "- me - my own interest\n",
    "- foreigners - want to learn more about sake in English\n",
    "- sake sommeliers / experts - want to explore sake data\n",
    "- sake brewers - want to know where sake is being brewed\n",
    "\n",
    "what I'm interested in learning from the data\n",
    "- which prefectures have many breweries / sake?\n",
    "- where is a higher rate of high / low quality sake produced?  \n",
    "- what climate and geographic factors play in brewery / sake production density?"
   ]
  },
  {
   "cell_type": "code",
   "execution_count": null,
   "id": "37529693",
   "metadata": {},
   "outputs": [],
   "source": []
  }
 ],
 "metadata": {
  "kernelspec": {
   "display_name": "Python 3 (ipykernel)",
   "language": "python",
   "name": "python3"
  },
  "language_info": {
   "codemirror_mode": {
    "name": "ipython",
    "version": 3
   },
   "file_extension": ".py",
   "mimetype": "text/x-python",
   "name": "python",
   "nbconvert_exporter": "python",
   "pygments_lexer": "ipython3",
   "version": "3.8.12"
  },
  "toc": {
   "base_numbering": 1,
   "nav_menu": {},
   "number_sections": true,
   "sideBar": true,
   "skip_h1_title": false,
   "title_cell": "Table of Contents",
   "title_sidebar": "Contents",
   "toc_cell": false,
   "toc_position": {},
   "toc_section_display": true,
   "toc_window_display": false
  }
 },
 "nbformat": 4,
 "nbformat_minor": 5
}
